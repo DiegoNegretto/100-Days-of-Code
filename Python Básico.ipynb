{
 "cells": [
  {
   "cell_type": "markdown",
   "metadata": {},
   "source": [
    "# Python Básico\n",
    "\n"
   ]
  },
  {
   "cell_type": "markdown",
   "metadata": {},
   "source": [
    "Criada por Guido van Rossum nos anos 1990, Python é uma linguagem de alto nível, multiparadigma e interpretada. O que delimita um bloco na linguagem Python é a identação (e não {} ou palavras reservadas, como em outras linguagens). A extensão do arquivo script com um código Python é .py. "
   ]
  },
  {
   "cell_type": "markdown",
   "metadata": {},
   "source": [
    "## Variáveis "
   ]
  },
  {
   "cell_type": "markdown",
   "metadata": {},
   "source": [
    "Em Python, as variáveis são case-sensitive, ou seja, letras maiúsculas são diferentes de letras minúsculas."
   ]
  },
  {
   "cell_type": "code",
   "execution_count": 2,
   "metadata": {},
   "outputs": [
    {
     "name": "stdout",
     "output_type": "stream",
     "text": [
      "10\n",
      "5\n"
     ]
    }
   ],
   "source": [
    "a = 10\n",
    "A = 5\n",
    "print(a)\n",
    "print(A)"
   ]
  },
  {
   "cell_type": "markdown",
   "metadata": {},
   "source": [
    "### Conversão de tipos de variáveis"
   ]
  },
  {
   "cell_type": "code",
   "execution_count": 52,
   "metadata": {},
   "outputs": [
    {
     "name": "stdout",
     "output_type": "stream",
     "text": [
      "1\n",
      "<class 'int'>\n",
      "True\n",
      "<class 'bool'>\n",
      "1.0\n",
      "<class 'float'>\n",
      "1.0\n",
      "<class 'str'>\n"
     ]
    }
   ],
   "source": [
    "x = 1\n",
    "print(x)\n",
    "print(type(x))\n",
    "\n",
    "x = bool(x)\n",
    "print(x)\n",
    "print(type(x))\n",
    "\n",
    "x = float(x)\n",
    "print(x)\n",
    "print(type(x))\n",
    "\n",
    "x = str(x)\n",
    "print(x)\n",
    "print(type(x))\n"
   ]
  },
  {
   "cell_type": "markdown",
   "metadata": {},
   "source": [
    "## \"Hello Word\" em Python"
   ]
  },
  {
   "cell_type": "code",
   "execution_count": 1,
   "metadata": {},
   "outputs": [
    {
     "name": "stdout",
     "output_type": "stream",
     "text": [
      "Hello Word!\n"
     ]
    }
   ],
   "source": [
    "#!/usr/bin/python3\n",
    "# coding: utf-8\n",
    "#\n",
    "# Programa: Hello Word!\n",
    "\n",
    "print(\"Hello Word!\")"
   ]
  },
  {
   "cell_type": "markdown",
   "metadata": {},
   "source": [
    "## \"Hello Word\" com entrada de dados"
   ]
  },
  {
   "cell_type": "code",
   "execution_count": 2,
   "metadata": {},
   "outputs": [
    {
     "name": "stdout",
     "output_type": "stream",
     "text": [
      "Hello Word!\n",
      "Digite seu nome:diego\n",
      "Olá diego!!!\n"
     ]
    }
   ],
   "source": [
    "#!/usr/bin/python3\n",
    "# coding: utf-8\n",
    "#\n",
    "# Programa: Hello Word! com entrada de dados\n",
    "\n",
    "print(\"Hello Word!\")\n",
    "nome = input(\"Digite seu nome:\")\n",
    "print(\"Olá \" + nome + \"!!!\")"
   ]
  },
  {
   "cell_type": "markdown",
   "metadata": {},
   "source": [
    "A linguagem Python é de tipagem dinâmica, ou seja, não é necessário declarar previamente o tipo de variável que iremos utiliza, sendo o interpretador o responsável por guardar as informações sobre os tipos de variáveis."
   ]
  },
  {
   "cell_type": "markdown",
   "metadata": {},
   "source": [
    "Abaixo um código exemplo da flexibilidade dos tipos de variáveis em Python (Fonte: SARAIVA JUNIOR, Orlando. Introdução à Orientação a Objetos com C++ e Python. São Paulo: Novatec, 2017.)\n"
   ]
  },
  {
   "cell_type": "code",
   "execution_count": 5,
   "metadata": {},
   "outputs": [
    {
     "name": "stdout",
     "output_type": "stream",
     "text": [
      "Soma: 7\n",
      "\n",
      "\n",
      "Soma: 7.2198\n",
      "\n",
      "\n",
      "Soma: Oi mundo \n",
      "\n",
      "\n"
     ]
    },
    {
     "ename": "TypeError",
     "evalue": "must be str, not float",
     "output_type": "error",
     "traceback": [
      "\u001b[1;31m---------------------------------------------------------------------------\u001b[0m",
      "\u001b[1;31mTypeError\u001b[0m                                 Traceback (most recent call last)",
      "\u001b[1;32m<ipython-input-5-eca5aa8115fb>\u001b[0m in \u001b[0;36m<module>\u001b[1;34m()\u001b[0m\n\u001b[0;32m     27\u001b[0m \u001b[0mnumero1\u001b[0m \u001b[1;33m=\u001b[0m \u001b[1;34m\"Oi \"\u001b[0m\u001b[1;33m\u001b[0m\u001b[0m\n\u001b[0;32m     28\u001b[0m \u001b[0mnumero2\u001b[0m \u001b[1;33m=\u001b[0m \u001b[1;36m4.2198\u001b[0m\u001b[1;33m\u001b[0m\u001b[0m\n\u001b[1;32m---> 29\u001b[1;33m \u001b[0mvalor\u001b[0m \u001b[1;33m=\u001b[0m \u001b[0msoma\u001b[0m\u001b[1;33m(\u001b[0m\u001b[0mnumero1\u001b[0m\u001b[1;33m,\u001b[0m \u001b[0mnumero2\u001b[0m\u001b[1;33m)\u001b[0m\u001b[1;33m\u001b[0m\u001b[0m\n\u001b[0m\u001b[0;32m     30\u001b[0m \u001b[0mprint\u001b[0m\u001b[1;33m(\u001b[0m\u001b[1;34m\"Soma: \"\u001b[0m \u001b[1;33m+\u001b[0m \u001b[0mstr\u001b[0m\u001b[1;33m(\u001b[0m\u001b[0mvalor\u001b[0m\u001b[1;33m)\u001b[0m \u001b[1;33m+\u001b[0m \u001b[1;34m\"\\n\\n\"\u001b[0m\u001b[1;33m)\u001b[0m\u001b[1;33m\u001b[0m\u001b[0m\n",
      "\u001b[1;32m<ipython-input-5-eca5aa8115fb>\u001b[0m in \u001b[0;36msoma\u001b[1;34m(numero1, numero2)\u001b[0m\n\u001b[0;32m      5\u001b[0m \u001b[1;33m\u001b[0m\u001b[0m\n\u001b[0;32m      6\u001b[0m \u001b[1;32mdef\u001b[0m \u001b[0msoma\u001b[0m\u001b[1;33m(\u001b[0m\u001b[0mnumero1\u001b[0m\u001b[1;33m,\u001b[0m \u001b[0mnumero2\u001b[0m\u001b[1;33m)\u001b[0m\u001b[1;33m:\u001b[0m\u001b[1;33m\u001b[0m\u001b[0m\n\u001b[1;32m----> 7\u001b[1;33m     \u001b[1;32mreturn\u001b[0m \u001b[0mnumero1\u001b[0m \u001b[1;33m+\u001b[0m \u001b[0mnumero2\u001b[0m\u001b[1;33m\u001b[0m\u001b[0m\n\u001b[0m\u001b[0;32m      8\u001b[0m \u001b[1;33m\u001b[0m\u001b[0m\n\u001b[0;32m      9\u001b[0m \u001b[0mnumero1\u001b[0m \u001b[1;33m=\u001b[0m \u001b[1;36m3\u001b[0m\u001b[1;33m\u001b[0m\u001b[0m\n",
      "\u001b[1;31mTypeError\u001b[0m: must be str, not float"
     ]
    }
   ],
   "source": [
    "#!/usr/bin/python3\n",
    "# coding: utf-8\n",
    "#\n",
    "# Programa: soma\n",
    "\n",
    "def soma(numero1, numero2):\n",
    "    return numero1 + numero2\n",
    "\n",
    "numero1 = 3\n",
    "numero2 = 4\n",
    "valor = soma(numero1, numero2)\n",
    "print(\"Soma: \" + str(valor) + \"\\n\\n\")\n",
    "\n",
    "numero2 = 4.2198\n",
    "valor = soma(numero1, numero2)\n",
    "print(\"Soma: \" + str(valor) + \"\\n\\n\")\n",
    "\n",
    "numero1 = \"Oi \"\n",
    "numero2 = \"mundo \"\n",
    "\n",
    "valor = soma(numero1, numero2)\n",
    "print(\"Soma: \" + str(valor) + \"\\n\\n\")\n",
    "\n",
    "\"\"\"\n",
    "Trecho com erro\n",
    "\"\"\"\n",
    "numero1 = \"Oi \"\n",
    "numero2 = 4.2198\n",
    "valor = soma(numero1, numero2)\n",
    "print(\"Soma: \" + str(valor) + \"\\n\\n\")"
   ]
  },
  {
   "cell_type": "markdown",
   "metadata": {},
   "source": [
    "Para conhecermos os tipos das variáveis em Python, podemos utilizar o comando type()."
   ]
  },
  {
   "cell_type": "code",
   "execution_count": 8,
   "metadata": {},
   "outputs": [
    {
     "name": "stdout",
     "output_type": "stream",
     "text": [
      "<class 'int'>\n",
      "<class 'float'>\n",
      "<class 'str'>\n"
     ]
    }
   ],
   "source": [
    "x = 10\n",
    "print(type(x))\n",
    "x = 10.25\n",
    "print(type(x))\n",
    "x = \"Python\"\n",
    "print(type(x))"
   ]
  },
  {
   "cell_type": "markdown",
   "metadata": {},
   "source": [
    "É interessante notar que o interpretador é o responsável por alocar e desalocar as variáveis. Observe que a cada nova atribuição para a variavél, a identificação dessa variável muda (comando id() )"
   ]
  },
  {
   "cell_type": "code",
   "execution_count": 9,
   "metadata": {},
   "outputs": [
    {
     "name": "stdout",
     "output_type": "stream",
     "text": [
      "1694917056\n",
      "2034460746664\n",
      "2034394534776\n"
     ]
    }
   ],
   "source": [
    "x = 10\n",
    "print(id(x))\n",
    "x = 10.25\n",
    "print(id(x))\n",
    "x = \"Python\"\n",
    "print(id(x))"
   ]
  },
  {
   "cell_type": "markdown",
   "metadata": {},
   "source": [
    "O comando help() traz a explicação de um comando / função específico.\n"
   ]
  },
  {
   "cell_type": "code",
   "execution_count": 11,
   "metadata": {},
   "outputs": [
    {
     "name": "stdout",
     "output_type": "stream",
     "text": [
      "Help on built-in function print in module builtins:\n",
      "\n",
      "print(...)\n",
      "    print(value, ..., sep=' ', end='\\n', file=sys.stdout, flush=False)\n",
      "    \n",
      "    Prints the values to a stream, or to sys.stdout by default.\n",
      "    Optional keyword arguments:\n",
      "    file:  a file-like object (stream); defaults to the current sys.stdout.\n",
      "    sep:   string inserted between values, default a space.\n",
      "    end:   string appended after the last value, default a newline.\n",
      "    flush: whether to forcibly flush the stream.\n",
      "\n"
     ]
    }
   ],
   "source": [
    "help(print)"
   ]
  },
  {
   "cell_type": "markdown",
   "metadata": {},
   "source": [
    "O comando dir() apresenta funções embutidas presentes nos tipos de dados em Python. Com essas funções pode-se fazer diversas alterações nas variáveis.\n"
   ]
  },
  {
   "cell_type": "code",
   "execution_count": 14,
   "metadata": {},
   "outputs": [
    {
     "data": {
      "text/plain": [
       "['__add__',\n",
       " '__class__',\n",
       " '__contains__',\n",
       " '__delattr__',\n",
       " '__dir__',\n",
       " '__doc__',\n",
       " '__eq__',\n",
       " '__format__',\n",
       " '__ge__',\n",
       " '__getattribute__',\n",
       " '__getitem__',\n",
       " '__getnewargs__',\n",
       " '__gt__',\n",
       " '__hash__',\n",
       " '__init__',\n",
       " '__init_subclass__',\n",
       " '__iter__',\n",
       " '__le__',\n",
       " '__len__',\n",
       " '__lt__',\n",
       " '__mod__',\n",
       " '__mul__',\n",
       " '__ne__',\n",
       " '__new__',\n",
       " '__reduce__',\n",
       " '__reduce_ex__',\n",
       " '__repr__',\n",
       " '__rmod__',\n",
       " '__rmul__',\n",
       " '__setattr__',\n",
       " '__sizeof__',\n",
       " '__str__',\n",
       " '__subclasshook__',\n",
       " 'capitalize',\n",
       " 'casefold',\n",
       " 'center',\n",
       " 'count',\n",
       " 'encode',\n",
       " 'endswith',\n",
       " 'expandtabs',\n",
       " 'find',\n",
       " 'format',\n",
       " 'format_map',\n",
       " 'index',\n",
       " 'isalnum',\n",
       " 'isalpha',\n",
       " 'isdecimal',\n",
       " 'isdigit',\n",
       " 'isidentifier',\n",
       " 'islower',\n",
       " 'isnumeric',\n",
       " 'isprintable',\n",
       " 'isspace',\n",
       " 'istitle',\n",
       " 'isupper',\n",
       " 'join',\n",
       " 'ljust',\n",
       " 'lower',\n",
       " 'lstrip',\n",
       " 'maketrans',\n",
       " 'partition',\n",
       " 'replace',\n",
       " 'rfind',\n",
       " 'rindex',\n",
       " 'rjust',\n",
       " 'rpartition',\n",
       " 'rsplit',\n",
       " 'rstrip',\n",
       " 'split',\n",
       " 'splitlines',\n",
       " 'startswith',\n",
       " 'strip',\n",
       " 'swapcase',\n",
       " 'title',\n",
       " 'translate',\n",
       " 'upper',\n",
       " 'zfill']"
      ]
     },
     "execution_count": 14,
     "metadata": {},
     "output_type": "execute_result"
    }
   ],
   "source": [
    "x = \"palavra\"\n",
    "dir(x)"
   ]
  },
  {
   "cell_type": "markdown",
   "metadata": {
    "collapsed": true
   },
   "source": [
    "## Strings"
   ]
  },
  {
   "cell_type": "markdown",
   "metadata": {},
   "source": [
    "Strings (sequência de caracteres) em Python são objetos imutáveis, ou seja, depois de serem criadas não podem mais ser modificadas, fazendo com que uma nova atribuição de valor a uma string gere uma nova variável."
   ]
  },
  {
   "cell_type": "code",
   "execution_count": 5,
   "metadata": {},
   "outputs": [
    {
     "name": "stdout",
     "output_type": "stream",
     "text": [
      "2044994924248\n",
      "2044995113840\n"
     ]
    }
   ],
   "source": [
    "nome = \"Fulano\"\n",
    "print(id(nome))\n",
    "nome = \"Fulano de Tal\"\n",
    "print(id(nome))"
   ]
  },
  {
   "cell_type": "markdown",
   "metadata": {},
   "source": [
    "Por ser tratada como um objeto, Strings contêm possuem funções embutidas."
   ]
  },
  {
   "cell_type": "code",
   "execution_count": 10,
   "metadata": {},
   "outputs": [
    {
     "name": "stdout",
     "output_type": "stream",
     "text": [
      "Python\n",
      "t\n",
      "yth\n",
      "ython\n",
      "PYTHON\n",
      "python\n"
     ]
    }
   ],
   "source": [
    "x = \"Python\"\n",
    "print(x) # exibe o conteúdo da string x\n",
    "\n",
    "print(x[2]) # exibe apenas o conteúdo da 2 posição da string\n",
    "\n",
    "print(x[1:4]) # exibe o conteúdo da 1 à 3 posição da string ( [start: end] -> start incluso, end não incluso)\n",
    "\n",
    "print(x[1:]) # exibe o conteúdo da posicao 1 até o final da string\n",
    "\n",
    "print(x.upper()) # exibe o conteúdo da string todo em letras maiúsculas.\n",
    "\n",
    "print(x.lower()) # exibe o conteúdo da string todo em letras minúsculas."
   ]
  },
  {
   "cell_type": "markdown",
   "metadata": {},
   "source": [
    "## Listas"
   ]
  },
  {
   "cell_type": "markdown",
   "metadata": {},
   "source": [
    "Listas é um tipo sequência mutável, ou seja, diferentemente das strings, seu estado pode ser modificado após ter sido criado. \n"
   ]
  },
  {
   "cell_type": "code",
   "execution_count": 22,
   "metadata": {},
   "outputs": [
    {
     "name": "stdout",
     "output_type": "stream",
     "text": [
      "['a', 'b', 'c']\n"
     ]
    }
   ],
   "source": [
    "lista = [\"a\", \"b\" , \"c\"]\n",
    "print(lista)"
   ]
  },
  {
   "cell_type": "markdown",
   "metadata": {},
   "source": [
    "Em Python, as listas podem conter tipos diferentes de dados, podendo até mesmo conter outras listas."
   ]
  },
  {
   "cell_type": "code",
   "execution_count": 21,
   "metadata": {},
   "outputs": [
    {
     "name": "stdout",
     "output_type": "stream",
     "text": [
      "['a', 'b', 1, ['c', 'd', 2]]\n",
      "a\n",
      "['c', 'd', 2]\n"
     ]
    }
   ],
   "source": [
    "lista = [\"a\", \"b\" , 1, [\"c\", \"d\", 2]]\n",
    "print(lista)\n",
    "\n",
    "print(lista[0]) # posição 0 da lista contêm a letra \"a\"\n",
    "print(lista[3]) # posição 3 da lista contêm a lista [\"c\",\"d\",2]"
   ]
  },
  {
   "cell_type": "markdown",
   "metadata": {},
   "source": [
    "Um item da lista pode ser acessado através de um indice que vai de [0 até n-1] ou de [-n até -1] (com n sendo o número de itens da lista)."
   ]
  },
  {
   "cell_type": "code",
   "execution_count": 25,
   "metadata": {},
   "outputs": [
    {
     "name": "stdout",
     "output_type": "stream",
     "text": [
      "['a', 'b', 'c']\n",
      "a\n",
      "a\n",
      "b\n",
      "b\n",
      "c\n",
      "c\n"
     ]
    }
   ],
   "source": [
    "lista = [\"a\", \"b\", \"c\"]\n",
    "print(lista)\n",
    "\n",
    "# primeiro elemento\n",
    "print(lista[0])\n",
    "print(lista[-3])\n",
    "\n",
    "# segundo elemento\n",
    "print(lista[1])\n",
    "print(lista[-2])\n",
    "\n",
    "# último elemento\n",
    "print(lista[2])\n",
    "print(lista[-1])"
   ]
  },
  {
   "cell_type": "markdown",
   "metadata": {},
   "source": [
    "### Particionamento de Listas "
   ]
  },
  {
   "cell_type": "markdown",
   "metadata": {},
   "source": [
    "Pode-se acessar uma determinada parte da lista utilizando um valor de índice para o início e um valor de índice para o fim, separados por \":\" ( [inicio : fim], sendo o inicio inclusivo e o fim não-inclusivo). Caso o valor de início ou fim não seja especificado, o intervalo comecará em 0 e terminará em n-1, respectivamente. "
   ]
  },
  {
   "cell_type": "code",
   "execution_count": 37,
   "metadata": {},
   "outputs": [
    {
     "name": "stdout",
     "output_type": "stream",
     "text": [
      "[2, 'c']\n",
      "['a', 1]\n",
      "['b', 2, 'c', 3]\n"
     ]
    }
   ],
   "source": [
    "lista = [\"a\", 1, \"b\", 2, \"c\", 3]\n",
    "\n",
    "print(lista[3:5])\n",
    "\n",
    "print(lista[:2])\n",
    "\n",
    "print(lista[2:])"
   ]
  },
  {
   "cell_type": "markdown",
   "metadata": {},
   "source": [
    "### Manipulação de Listas"
   ]
  },
  {
   "cell_type": "code",
   "execution_count": 38,
   "metadata": {},
   "outputs": [
    {
     "name": "stdout",
     "output_type": "stream",
     "text": [
      "['a', 1, 'b', 2, 'c', 3]\n",
      "['z', 1, 'b', 2, 'c', 3]\n",
      "['z', 26, 'b', 2, 'c', 3]\n",
      "['z', 26, 'b', 2, 'c', 3, 'd']\n",
      "['z', 26, 'b', 2, 'c', 3, 'd', 4, 'e', 5]\n",
      "[26, 'b', 2, 'c', 3, 'd', 4, 'e', 5]\n",
      "['c', 3, 'd', 4, 'e', 5]\n"
     ]
    }
   ],
   "source": [
    "lista = [\"a\", 1, \"b\", 2, \"c\", 3]\n",
    "print(lista)\n",
    "\n",
    "lista[0] = \"z\" # modificando um único elemento\n",
    "print(lista)\n",
    "\n",
    "lista[:2] = [\"z\", 26] # modificando um intervalo\n",
    "print(lista)\n",
    "\n",
    "lista.append(\"d\") # adicionando um único elemento\n",
    "print(lista)\n",
    "\n",
    "lista = lista + [4, \"e\", 5] #adicionando vários elementos\n",
    "print(lista)\n",
    "\n",
    "del(lista[0]) # removendo um único elemento \n",
    "print(lista)\n",
    "\n",
    "del(lista[:3]) # removendo vários elementos\n",
    "print(lista)\n"
   ]
  },
  {
   "cell_type": "markdown",
   "metadata": {},
   "source": [
    "Em Python, quando é feita a atribuição de uma lista (x) para outra lista (y) com o sinal de \"=\", cria-se uma nova referência para essa lista. Dessa forma, qualquer alteração em x altera também y.\n",
    "\n",
    "Para se fazer uma cópia da lista, deve-se utilizar o comando list()."
   ]
  },
  {
   "cell_type": "code",
   "execution_count": 41,
   "metadata": {},
   "outputs": [
    {
     "name": "stdout",
     "output_type": "stream",
     "text": [
      "['a', 1, 'b', 2, 'c', 3]\n",
      "['a', 1, 'b', 2, 'c', 3]\n",
      "['z', 1, 'b', 2, 'c', 3]\n",
      "['z', 1, 'b', 2, 'c', 3]\n",
      "['z', 1, 'b', 2, 'c', 3]\n",
      "['a', 1, 'b', 2, 'c', 3]\n",
      "['z', 1, 'b', 2, 'c', 3]\n"
     ]
    }
   ],
   "source": [
    "x = [\"a\", 1, \"b\", 2, \"c\", 3]\n",
    "print(x)\n",
    "\n",
    "y = x\n",
    "print(y)\n",
    "\n",
    "x[0] = \"z\"\n",
    "print(x)\n",
    "print(y)\n",
    "\n",
    "y = list(x)\n",
    "print(y)\n",
    "\n",
    "x[0] = \"a\"\n",
    "print(x)\n",
    "print(y)"
   ]
  },
  {
   "cell_type": "markdown",
   "metadata": {},
   "source": [
    "## Dicionários"
   ]
  },
  {
   "cell_type": "markdown",
   "metadata": {},
   "source": [
    "Dicionários são tipo sequência caracterizados por um conjunto de chave/valor. "
   ]
  },
  {
   "cell_type": "code",
   "execution_count": 47,
   "metadata": {},
   "outputs": [
    {
     "name": "stdout",
     "output_type": "stream",
     "text": [
      "{'São Paulo': 'São Paulo', 'Bahia': 'Salvador', 'Minas Gerais': 'Belo Horizonte'}\n",
      "Salvador\n",
      "{'São Paulo': 'São Paulo', 'Bahia': 'Salvador', 'Minas Gerais': 'Belo Horizonte', 'Paraná': 'Curitiba'}\n",
      "Curitiba\n"
     ]
    }
   ],
   "source": [
    "capitais = {\"São Paulo\" : \"São Paulo\", \"Bahia\" : \"Salvador\", \"Minas Gerais\" : \"Belo Horizonte\"}\n",
    "print(capitais)\n",
    "\n",
    "print(capitais[\"Bahia\"])\n",
    "\n",
    "capitais[\"Paraná\"] = \"Curitiba\"\n",
    "print(capitais)\n",
    "\n",
    "print(capitais[\"Paraná\"])"
   ]
  },
  {
   "cell_type": "code",
   "execution_count": null,
   "metadata": {
    "collapsed": true
   },
   "outputs": [],
   "source": []
  }
 ],
 "metadata": {
  "kernelspec": {
   "display_name": "Python 3",
   "language": "python",
   "name": "python3"
  },
  "language_info": {
   "codemirror_mode": {
    "name": "ipython",
    "version": 3
   },
   "file_extension": ".py",
   "mimetype": "text/x-python",
   "name": "python",
   "nbconvert_exporter": "python",
   "pygments_lexer": "ipython3",
   "version": "3.6.3"
  }
 },
 "nbformat": 4,
 "nbformat_minor": 2
}
